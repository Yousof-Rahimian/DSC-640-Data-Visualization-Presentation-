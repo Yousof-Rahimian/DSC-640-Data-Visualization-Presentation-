{
 "cells": [
  {
   "cell_type": "code",
   "execution_count": 1,
   "id": "579333b9",
   "metadata": {},
   "outputs": [],
   "source": [
    "# Load libraries\n",
    "import pandas as pd\n",
    "import matplotlib.pyplot as plt\n",
    "import squarify\n",
    "import seaborn as sb"
   ]
  },
  {
   "cell_type": "code",
   "execution_count": 2,
   "id": "b751152b",
   "metadata": {},
   "outputs": [
    {
     "data": {
      "text/html": [
       "<div>\n",
       "<style scoped>\n",
       "    .dataframe tbody tr th:only-of-type {\n",
       "        vertical-align: middle;\n",
       "    }\n",
       "\n",
       "    .dataframe tbody tr th {\n",
       "        vertical-align: top;\n",
       "    }\n",
       "\n",
       "    .dataframe thead th {\n",
       "        text-align: right;\n",
       "    }\n",
       "</style>\n",
       "<table border=\"1\" class=\"dataframe\">\n",
       "  <thead>\n",
       "    <tr style=\"text-align: right;\">\n",
       "      <th></th>\n",
       "      <th>Series id</th>\n",
       "      <th>Year</th>\n",
       "      <th>Period</th>\n",
       "      <th>Value</th>\n",
       "    </tr>\n",
       "  </thead>\n",
       "  <tbody>\n",
       "    <tr>\n",
       "      <th>0</th>\n",
       "      <td>LNS14000000</td>\n",
       "      <td>1948</td>\n",
       "      <td>M01</td>\n",
       "      <td>3.4</td>\n",
       "    </tr>\n",
       "    <tr>\n",
       "      <th>1</th>\n",
       "      <td>LNS14000000</td>\n",
       "      <td>1948</td>\n",
       "      <td>M02</td>\n",
       "      <td>3.8</td>\n",
       "    </tr>\n",
       "    <tr>\n",
       "      <th>2</th>\n",
       "      <td>LNS14000000</td>\n",
       "      <td>1948</td>\n",
       "      <td>M03</td>\n",
       "      <td>4.0</td>\n",
       "    </tr>\n",
       "    <tr>\n",
       "      <th>3</th>\n",
       "      <td>LNS14000000</td>\n",
       "      <td>1948</td>\n",
       "      <td>M04</td>\n",
       "      <td>3.9</td>\n",
       "    </tr>\n",
       "    <tr>\n",
       "      <th>4</th>\n",
       "      <td>LNS14000000</td>\n",
       "      <td>1948</td>\n",
       "      <td>M05</td>\n",
       "      <td>3.5</td>\n",
       "    </tr>\n",
       "  </tbody>\n",
       "</table>\n",
       "</div>"
      ],
      "text/plain": [
       "     Series id  Year Period  Value\n",
       "0  LNS14000000  1948    M01    3.4\n",
       "1  LNS14000000  1948    M02    3.8\n",
       "2  LNS14000000  1948    M03    4.0\n",
       "3  LNS14000000  1948    M04    3.9\n",
       "4  LNS14000000  1948    M05    3.5"
      ]
     },
     "execution_count": 2,
     "metadata": {},
     "output_type": "execute_result"
    }
   ],
   "source": [
    "# Read \"unemployement-rate\" data file\n",
    "unemployment_df = pd.read_csv('unemployement-rate.csv')\n",
    "unemployment_df.head()"
   ]
  },
  {
   "cell_type": "code",
   "execution_count": 3,
   "id": "053473aa",
   "metadata": {},
   "outputs": [
    {
     "data": {
      "text/html": [
       "<div>\n",
       "<style scoped>\n",
       "    .dataframe tbody tr th:only-of-type {\n",
       "        vertical-align: middle;\n",
       "    }\n",
       "\n",
       "    .dataframe tbody tr th {\n",
       "        vertical-align: top;\n",
       "    }\n",
       "\n",
       "    .dataframe thead th {\n",
       "        text-align: right;\n",
       "    }\n",
       "</style>\n",
       "<table border=\"1\" class=\"dataframe\">\n",
       "  <thead>\n",
       "    <tr style=\"text-align: right;\">\n",
       "      <th></th>\n",
       "      <th>year</th>\n",
       "      <th>category</th>\n",
       "      <th>expenditure</th>\n",
       "      <th>sex</th>\n",
       "    </tr>\n",
       "  </thead>\n",
       "  <tbody>\n",
       "    <tr>\n",
       "      <th>0</th>\n",
       "      <td>2008</td>\n",
       "      <td>Food</td>\n",
       "      <td>6443</td>\n",
       "      <td>1</td>\n",
       "    </tr>\n",
       "    <tr>\n",
       "      <th>1</th>\n",
       "      <td>2008</td>\n",
       "      <td>Alcoholic Beverages</td>\n",
       "      <td>444</td>\n",
       "      <td>1</td>\n",
       "    </tr>\n",
       "    <tr>\n",
       "      <th>2</th>\n",
       "      <td>2008</td>\n",
       "      <td>Housing</td>\n",
       "      <td>17109</td>\n",
       "      <td>1</td>\n",
       "    </tr>\n",
       "    <tr>\n",
       "      <th>3</th>\n",
       "      <td>2008</td>\n",
       "      <td>Apparel</td>\n",
       "      <td>1801</td>\n",
       "      <td>1</td>\n",
       "    </tr>\n",
       "    <tr>\n",
       "      <th>4</th>\n",
       "      <td>2008</td>\n",
       "      <td>Transportation</td>\n",
       "      <td>8604</td>\n",
       "      <td>1</td>\n",
       "    </tr>\n",
       "  </tbody>\n",
       "</table>\n",
       "</div>"
      ],
      "text/plain": [
       "   year             category  expenditure  sex\n",
       "0  2008                 Food         6443    1\n",
       "1  2008  Alcoholic Beverages          444    1\n",
       "2  2008              Housing        17109    1\n",
       "3  2008              Apparel         1801    1\n",
       "4  2008       Transportation         8604    1"
      ]
     },
     "execution_count": 3,
     "metadata": {},
     "output_type": "execute_result"
    }
   ],
   "source": [
    "# Read data file\n",
    "expenditures_df = pd.read_csv(\"expenditures.txt\", sep = '\\t', lineterminator = '\\r')\n",
    "expenditures_df.head()"
   ]
  },
  {
   "cell_type": "code",
   "execution_count": 16,
   "id": "096d44e9",
   "metadata": {},
   "outputs": [
    {
     "data": {
      "text/plain": [
       "category\n",
       "Housing               280256\n",
       "Transportation        160694\n",
       "Food                  119297\n",
       "Personal Insurance     84269\n",
       "Healthcare             47383\n",
       "Entertainment          44273\n",
       "Apparel                41833\n",
       "Cash Contributions     27987\n",
       "Name: expenditure, dtype: int64"
      ]
     },
     "execution_count": 16,
     "metadata": {},
     "output_type": "execute_result"
    }
   ],
   "source": [
    "# get top 10 group categories by expenditures\n",
    "Ctg_year = expenditures_df.groupby('category')['expenditure'].sum().nlargest(8)\n",
    "Ctg_year"
   ]
  },
  {
   "cell_type": "code",
   "execution_count": null,
   "id": "aff230d0",
   "metadata": {},
   "outputs": [],
   "source": []
  },
  {
   "cell_type": "markdown",
   "id": "71547bde",
   "metadata": {},
   "source": [
    "# Charts"
   ]
  },
  {
   "cell_type": "markdown",
   "id": "70bb0db2",
   "metadata": {},
   "source": [
    "## 1.Tree Map"
   ]
  },
  {
   "cell_type": "code",
   "execution_count": 17,
   "id": "017732c4",
   "metadata": {},
   "outputs": [
    {
     "data": {
      "image/png": "[encoded data removed]",
      "text/plain": [
       "<Figure size 1080x720 with 1 Axes>"
      ]
     },
     "metadata": {
      "needs_background": "light"
     },
     "output_type": "display_data"
    }
   ],
   "source": [
    "# Display the Treemap\n",
    "fig, ax = plt.subplots(figsize = (15, 10))\n",
    "squarify.plot(sizes = Ctg_year.values, label = Ctg_year.index, \n",
    "              color = sb.color_palette(\"Blues_r\", len(Ctg_year.values)))\n",
    "plt.title('Python - Treemap_Top 8 Categories by Expenditure')\n",
    "ax.axis('off')\n",
    "\n",
    "plt.show()\n"
   ]
  },
  {
   "cell_type": "markdown",
   "id": "44755caf",
   "metadata": {},
   "source": [
    "## 2. Area Chart"
   ]
  },
  {
   "cell_type": "code",
   "execution_count": 6,
   "id": "32c55150",
   "metadata": {},
   "outputs": [
    {
     "data": {
      "text/plain": [
       "year\n",
       "1984    21972\n",
       "1985    23489\n",
       "1986    23865\n",
       "1987    24415\n",
       "1988    25893\n",
       "1989    27811\n",
       "1990    28379\n",
       "1991    29614\n",
       "1992    30296\n",
       "1993    30692\n",
       "1994    31733\n",
       "1995    32262\n",
       "1996    33798\n",
       "1997    34820\n",
       "1998    35536\n",
       "1999    36996\n",
       "2000    38045\n",
       "2001    39519\n",
       "2002    40676\n",
       "2003    40818\n",
       "2004    43392\n",
       "2005    46407\n",
       "2006    48400\n",
       "2007    49619\n",
       "2008    50489\n",
       "dtype: int64"
      ]
     },
     "execution_count": 6,
     "metadata": {},
     "output_type": "execute_result"
    }
   ],
   "source": [
    "# expenditures per year for sex = 1\n",
    "expenditures_peryear = expenditures_df.groupby('year')\n",
    "expenditures_sex1 = expenditures_peryear.apply(lambda x: x[x['sex'] == 1]['expenditure'].sum())\n",
    "expenditures_sex1"
   ]
  },
  {
   "cell_type": "code",
   "execution_count": 7,
   "id": "fd91701c",
   "metadata": {},
   "outputs": [
    {
     "data": {
      "image/png": "[encoded data removed]",
      "text/plain": [
       "<Figure size 720x576 with 1 Axes>"
      ]
     },
     "metadata": {
      "needs_background": "light"
     },
     "output_type": "display_data"
    }
   ],
   "source": [
    "# Display the Area Chart\n",
    "fig, ax = plt.subplots(figsize=(10,8))\n",
    "\n",
    "ax.fill_between(expenditures_sex1.keys(), expenditures_sex1.values, color='lightblue')\n",
    "\n",
    "plt.title('Python - Area Chart_n1984 - 2008 Expenditures')\n",
    "plt.ylabel('Expenditures')\n",
    "plt.xlabel('')\n",
    "\n",
    "plt.show()"
   ]
  },
  {
   "cell_type": "markdown",
   "id": "ee2c7fca",
   "metadata": {},
   "source": [
    "## 3.Stacked Area Chart"
   ]
  },
  {
   "cell_type": "code",
   "execution_count": 8,
   "id": "7e439e6b",
   "metadata": {},
   "outputs": [
    {
     "data": {
      "text/plain": [
       "{'1984': [8.0, 7.8, 7.8, 7.7, 7.4, 7.2, 7.5, 7.5, 7.3, 7.4, 7.2, 7.3],\n",
       " '2000': [4.0, 4.1, 4.0, 3.8, 4.0, 4.0, 4.0, 4.1, 3.9, 3.9, 3.9, 3.9],\n",
       " '2008': [5.0, 4.8, 5.1, 5.0, 5.4, 5.5, 5.8, 6.1, 6.2, 6.6, 6.9, 7.4]}"
      ]
     },
     "execution_count": 8,
     "metadata": {},
     "output_type": "execute_result"
    }
   ],
   "source": [
    "year_1984 = list(unemployment_df[unemployment_df['Year'] == 1984]['Value'])\n",
    "year_2000 = list(unemployment_df[unemployment_df['Year'] == 2000]['Value'])\n",
    "year_2008 = list(unemployment_df[unemployment_df['Year'] == 2008]['Value'])\n",
    "\n",
    "y_values = {\n",
    "    '1984': year_1984,\n",
    "    '2000': year_2000,\n",
    "    '2008': year_2008\n",
    "}\n",
    "\n",
    "y_values"
   ]
  },
  {
   "cell_type": "code",
   "execution_count": 9,
   "id": "96bf487e",
   "metadata": {},
   "outputs": [
    {
     "data": {
      "text/plain": [
       "['Jan',\n",
       " 'Feb',\n",
       " 'Mar',\n",
       " 'Apr',\n",
       " 'May',\n",
       " 'Jun',\n",
       " 'Jul',\n",
       " 'Aug',\n",
       " 'Sep',\n",
       " 'Oct',\n",
       " 'Nov',\n",
       " 'Dec']"
      ]
     },
     "execution_count": 9,
     "metadata": {},
     "output_type": "execute_result"
    }
   ],
   "source": [
    "x = ['Jan', 'Feb', 'Mar', 'Apr', 'May', 'Jun', 'Jul', 'Aug', 'Sep', 'Oct', 'Nov', 'Dec']\n",
    "x"
   ]
  },
  {
   "cell_type": "code",
   "execution_count": 10,
   "id": "a72c79a5",
   "metadata": {},
   "outputs": [
    {
     "data": {
      "image/png": "[encoded data removed]",
      "text/plain": [
       "<Figure size 720x576 with 1 Axes>"
      ]
     },
     "metadata": {
      "needs_background": "light"
     },
     "output_type": "display_data"
    }
   ],
   "source": [
    "# display the Stack Area Chart\n",
    "fig, ax = plt.subplots(figsize=(10,8))\n",
    "\n",
    "ax.stackplot(x, y_values.values(), labels = y_values.keys(), colors = ['blue', 'royalblue', 'lightblue'])\n",
    "plt.title('Python - Stacked Area Chart_2007 - 2009 Unemployment Rates')\n",
    "plt.ylabel('Unemployment Rates')\n",
    "plt.xlabel('')\n",
    "\n",
    "# legend\n",
    "ax.legend(loc = 'upper left')\n",
    "\n",
    "plt.show()\n"
   ]
  },
  {
   "cell_type": "code",
   "execution_count": null,
   "id": "ee8e4ac4",
   "metadata": {},
   "outputs": [],
   "source": []
  }
 ],
 "metadata": {
  "kernelspec": {
   "display_name": "Python 3 (ipykernel)",
   "language": "python",
   "name": "python3"
  },
  "language_info": {
   "codemirror_mode": {
    "name": "ipython",
    "version": 3
   },
   "file_extension": ".py",
   "mimetype": "text/x-python",
   "name": "python",
   "nbconvert_exporter": "python",
   "pygments_lexer": "ipython3",
   "version": "3.9.7"
  }
 },
 "nbformat": 4,
 "nbformat_minor": 5
}
