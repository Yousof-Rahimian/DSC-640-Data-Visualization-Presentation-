{
 "cells": [
  {
   "cell_type": "code",
   "execution_count": 1,
   "id": "d03e6612",
   "metadata": {},
   "outputs": [],
   "source": [
    "# Load libraries\n",
    "import pandas as pd\n",
    "import matplotlib.pyplot as plt\n",
    "import matplotlib.ticker as tick\n",
    "import matplotlib.patches as mpatches\n",
    "import seaborn as sb\n",
    "from scipy.stats import gaussian_kde"
   ]
  },
  {
   "cell_type": "code",
   "execution_count": 2,
   "id": "14b93542",
   "metadata": {},
   "outputs": [
    {
     "data": {
      "text/html": [
       "<div>\n",
       "<style scoped>\n",
       "    .dataframe tbody tr th:only-of-type {\n",
       "        vertical-align: middle;\n",
       "    }\n",
       "\n",
       "    .dataframe tbody tr th {\n",
       "        vertical-align: top;\n",
       "    }\n",
       "\n",
       "    .dataframe thead th {\n",
       "        text-align: right;\n",
       "    }\n",
       "</style>\n",
       "<table border=\"1\" class=\"dataframe\">\n",
       "  <thead>\n",
       "    <tr style=\"text-align: right;\">\n",
       "      <th></th>\n",
       "      <th>state</th>\n",
       "      <th>murder</th>\n",
       "      <th>forcible_rape</th>\n",
       "      <th>robbery</th>\n",
       "      <th>aggravated_assault</th>\n",
       "      <th>burglary</th>\n",
       "      <th>larceny_theft</th>\n",
       "      <th>motor_vehicle_theft</th>\n",
       "      <th>population</th>\n",
       "    </tr>\n",
       "  </thead>\n",
       "  <tbody>\n",
       "    <tr>\n",
       "      <th>0</th>\n",
       "      <td>United States</td>\n",
       "      <td>5.6</td>\n",
       "      <td>31.7</td>\n",
       "      <td>140.7</td>\n",
       "      <td>291.1</td>\n",
       "      <td>726.7</td>\n",
       "      <td>2286.3</td>\n",
       "      <td>416.7</td>\n",
       "      <td>295753151</td>\n",
       "    </tr>\n",
       "    <tr>\n",
       "      <th>1</th>\n",
       "      <td>Alabama</td>\n",
       "      <td>8.2</td>\n",
       "      <td>34.3</td>\n",
       "      <td>141.4</td>\n",
       "      <td>247.8</td>\n",
       "      <td>953.8</td>\n",
       "      <td>2650.0</td>\n",
       "      <td>288.3</td>\n",
       "      <td>4545049</td>\n",
       "    </tr>\n",
       "    <tr>\n",
       "      <th>2</th>\n",
       "      <td>Alaska</td>\n",
       "      <td>4.8</td>\n",
       "      <td>81.1</td>\n",
       "      <td>80.9</td>\n",
       "      <td>465.1</td>\n",
       "      <td>622.5</td>\n",
       "      <td>2599.1</td>\n",
       "      <td>391.0</td>\n",
       "      <td>669488</td>\n",
       "    </tr>\n",
       "    <tr>\n",
       "      <th>3</th>\n",
       "      <td>Arizona</td>\n",
       "      <td>7.5</td>\n",
       "      <td>33.8</td>\n",
       "      <td>144.4</td>\n",
       "      <td>327.4</td>\n",
       "      <td>948.4</td>\n",
       "      <td>2965.2</td>\n",
       "      <td>924.4</td>\n",
       "      <td>5974834</td>\n",
       "    </tr>\n",
       "    <tr>\n",
       "      <th>4</th>\n",
       "      <td>Arkansas</td>\n",
       "      <td>6.7</td>\n",
       "      <td>42.9</td>\n",
       "      <td>91.1</td>\n",
       "      <td>386.8</td>\n",
       "      <td>1084.6</td>\n",
       "      <td>2711.2</td>\n",
       "      <td>262.1</td>\n",
       "      <td>2776221</td>\n",
       "    </tr>\n",
       "  </tbody>\n",
       "</table>\n",
       "</div>"
      ],
      "text/plain": [
       "           state  murder  forcible_rape  robbery  aggravated_assault  \\\n",
       "0  United States     5.6           31.7    140.7               291.1   \n",
       "1        Alabama     8.2           34.3    141.4               247.8   \n",
       "2         Alaska     4.8           81.1     80.9               465.1   \n",
       "3        Arizona     7.5           33.8    144.4               327.4   \n",
       "4       Arkansas     6.7           42.9     91.1               386.8   \n",
       "\n",
       "   burglary  larceny_theft  motor_vehicle_theft  population  \n",
       "0     726.7         2286.3                416.7   295753151  \n",
       "1     953.8         2650.0                288.3     4545049  \n",
       "2     622.5         2599.1                391.0      669488  \n",
       "3     948.4         2965.2                924.4     5974834  \n",
       "4    1084.6         2711.2                262.1     2776221  "
      ]
     },
     "execution_count": 2,
     "metadata": {},
     "output_type": "execute_result"
    }
   ],
   "source": [
    "# Load the crimerates\n",
    "crime_rate_df = pd.read_csv(\"crimerates-by-state-2005.csv\")\n",
    "crime_rate_df.head()"
   ]
  },
  {
   "cell_type": "markdown",
   "id": "7c92b3be",
   "metadata": {},
   "source": [
    "# Scatterplot"
   ]
  },
  {
   "cell_type": "code",
   "execution_count": 3,
   "id": "6a031791",
   "metadata": {},
   "outputs": [
    {
     "data": {
      "text/html": [
       "<div>\n",
       "<style scoped>\n",
       "    .dataframe tbody tr th:only-of-type {\n",
       "        vertical-align: middle;\n",
       "    }\n",
       "\n",
       "    .dataframe tbody tr th {\n",
       "        vertical-align: top;\n",
       "    }\n",
       "\n",
       "    .dataframe thead th {\n",
       "        text-align: right;\n",
       "    }\n",
       "</style>\n",
       "<table border=\"1\" class=\"dataframe\">\n",
       "  <thead>\n",
       "    <tr style=\"text-align: right;\">\n",
       "      <th></th>\n",
       "      <th>state</th>\n",
       "      <th>murder</th>\n",
       "      <th>forcible_rape</th>\n",
       "      <th>robbery</th>\n",
       "      <th>aggravated_assault</th>\n",
       "      <th>burglary</th>\n",
       "      <th>larceny_theft</th>\n",
       "      <th>motor_vehicle_theft</th>\n",
       "      <th>population</th>\n",
       "    </tr>\n",
       "  </thead>\n",
       "  <tbody>\n",
       "    <tr>\n",
       "      <th>1</th>\n",
       "      <td>Alabama</td>\n",
       "      <td>8.2</td>\n",
       "      <td>34.3</td>\n",
       "      <td>141.4</td>\n",
       "      <td>247.8</td>\n",
       "      <td>953.8</td>\n",
       "      <td>2650.0</td>\n",
       "      <td>288.3</td>\n",
       "      <td>4545049</td>\n",
       "    </tr>\n",
       "    <tr>\n",
       "      <th>2</th>\n",
       "      <td>Alaska</td>\n",
       "      <td>4.8</td>\n",
       "      <td>81.1</td>\n",
       "      <td>80.9</td>\n",
       "      <td>465.1</td>\n",
       "      <td>622.5</td>\n",
       "      <td>2599.1</td>\n",
       "      <td>391.0</td>\n",
       "      <td>669488</td>\n",
       "    </tr>\n",
       "    <tr>\n",
       "      <th>3</th>\n",
       "      <td>Arizona</td>\n",
       "      <td>7.5</td>\n",
       "      <td>33.8</td>\n",
       "      <td>144.4</td>\n",
       "      <td>327.4</td>\n",
       "      <td>948.4</td>\n",
       "      <td>2965.2</td>\n",
       "      <td>924.4</td>\n",
       "      <td>5974834</td>\n",
       "    </tr>\n",
       "    <tr>\n",
       "      <th>4</th>\n",
       "      <td>Arkansas</td>\n",
       "      <td>6.7</td>\n",
       "      <td>42.9</td>\n",
       "      <td>91.1</td>\n",
       "      <td>386.8</td>\n",
       "      <td>1084.6</td>\n",
       "      <td>2711.2</td>\n",
       "      <td>262.1</td>\n",
       "      <td>2776221</td>\n",
       "    </tr>\n",
       "    <tr>\n",
       "      <th>5</th>\n",
       "      <td>California</td>\n",
       "      <td>6.9</td>\n",
       "      <td>26.0</td>\n",
       "      <td>176.1</td>\n",
       "      <td>317.3</td>\n",
       "      <td>693.3</td>\n",
       "      <td>1916.5</td>\n",
       "      <td>712.8</td>\n",
       "      <td>35795255</td>\n",
       "    </tr>\n",
       "  </tbody>\n",
       "</table>\n",
       "</div>"
      ],
      "text/plain": [
       "        state  murder  forcible_rape  robbery  aggravated_assault  burglary  \\\n",
       "1     Alabama     8.2           34.3    141.4               247.8     953.8   \n",
       "2      Alaska     4.8           81.1     80.9               465.1     622.5   \n",
       "3     Arizona     7.5           33.8    144.4               327.4     948.4   \n",
       "4    Arkansas     6.7           42.9     91.1               386.8    1084.6   \n",
       "5  California     6.9           26.0    176.1               317.3     693.3   \n",
       "\n",
       "   larceny_theft  motor_vehicle_theft  population  \n",
       "1         2650.0                288.3     4545049  \n",
       "2         2599.1                391.0      669488  \n",
       "3         2965.2                924.4     5974834  \n",
       "4         2711.2                262.1     2776221  \n",
       "5         1916.5                712.8    35795255  "
      ]
     },
     "execution_count": 3,
     "metadata": {},
     "output_type": "execute_result"
    }
   ],
   "source": [
    "# U.S crime rates of each states \n",
    "states_crime = crime_rate_df[crime_rate_df['state'] != 'United States']\n",
    "states_crime.head()\n"
   ]
  },
  {
   "cell_type": "code",
   "execution_count": 4,
   "id": "68af65b0",
   "metadata": {},
   "outputs": [
    {
     "data": {
      "image/png": "[encoded data removed]",
      "text/plain": [
       "<Figure size 1080x720 with 1 Axes>"
      ]
     },
     "metadata": {
      "needs_background": "light"
     },
     "output_type": "display_data"
    }
   ],
   "source": [
    "# display the state crime rate based on population of each estates \n",
    "# Use scatterplot\n",
    "\n",
    "fig, ax = plt.subplots(figsize = (15, 10))\n",
    "\n",
    "plt.scatter(states_crime['population'], states_crime['murder'], c = 'red', label = 'Murder')\n",
    "plt.scatter(states_crime['population'], states_crime['forcible_rape'], c = 'green', label = 'Forcible rape')\n",
    "plt.scatter(states_crime['population'], states_crime['robbery'], c = 'yellow', label = 'Robbery')\n",
    "plt.scatter(states_crime['population'], states_crime['aggravated_assault'], c = 'orange', label = 'Aggravated Assault')\n",
    "plt.scatter(states_crime['population'], states_crime['burglary'], c = 'purple', label = 'Burglary')\n",
    "plt.scatter(states_crime['population'], states_crime['larceny_theft'], c = 'blue', label = 'Larceny Theft')\n",
    "plt.scatter(states_crime['population'], states_crime['motor_vehicle_theft'], c = 'gray', label = 'Motor Vehicle Theft')\n",
    "\n",
    "ax.get_xaxis().set_major_formatter(\n",
    "    tick.FuncFormatter(lambda x, p: format(int(x), ',')))\n",
    "\n",
    "plt.xlabel(\"Population\")\n",
    "plt.xticks(rotation = 45, ha = 'right', rotation_mode = 'anchor')\n",
    "plt.ylabel(\"Crime Rates\")\n",
    "plt.title(\"Scatter Plot - Python \\n2005 U.S. States Crime Rate to Population\")\n",
    "\n",
    "ax.legend(loc=(1.01, 0.7), ncol = 2, title = 'Types of Crime')\n",
    "plt.tight_layout()\n",
    "\n",
    "plt.show()\n"
   ]
  },
  {
   "cell_type": "markdown",
   "id": "c64e7a5c",
   "metadata": {},
   "source": [
    "# Bubble Chart "
   ]
  },
  {
   "cell_type": "code",
   "execution_count": 5,
   "id": "79246ccb",
   "metadata": {},
   "outputs": [
    {
     "data": {
      "text/html": [
       "<div>\n",
       "<style scoped>\n",
       "    .dataframe tbody tr th:only-of-type {\n",
       "        vertical-align: middle;\n",
       "    }\n",
       "\n",
       "    .dataframe tbody tr th {\n",
       "        vertical-align: top;\n",
       "    }\n",
       "\n",
       "    .dataframe thead th {\n",
       "        text-align: right;\n",
       "    }\n",
       "</style>\n",
       "<table border=\"1\" class=\"dataframe\">\n",
       "  <thead>\n",
       "    <tr style=\"text-align: right;\">\n",
       "      <th></th>\n",
       "      <th>state</th>\n",
       "      <th>murder</th>\n",
       "      <th>forcible_rape</th>\n",
       "      <th>robbery</th>\n",
       "      <th>aggravated_assault</th>\n",
       "      <th>burglary</th>\n",
       "      <th>larceny_theft</th>\n",
       "      <th>motor_vehicle_theft</th>\n",
       "      <th>population</th>\n",
       "    </tr>\n",
       "  </thead>\n",
       "  <tbody>\n",
       "    <tr>\n",
       "      <th>0</th>\n",
       "      <td>United States</td>\n",
       "      <td>5.6</td>\n",
       "      <td>31.7</td>\n",
       "      <td>140.7</td>\n",
       "      <td>291.1</td>\n",
       "      <td>726.7</td>\n",
       "      <td>2286.3</td>\n",
       "      <td>416.7</td>\n",
       "      <td>295753151</td>\n",
       "    </tr>\n",
       "  </tbody>\n",
       "</table>\n",
       "</div>"
      ],
      "text/plain": [
       "           state  murder  forcible_rape  robbery  aggravated_assault  \\\n",
       "0  United States     5.6           31.7    140.7               291.1   \n",
       "\n",
       "   burglary  larceny_theft  motor_vehicle_theft  population  \n",
       "0     726.7         2286.3                416.7   295753151  "
      ]
     },
     "execution_count": 5,
     "metadata": {},
     "output_type": "execute_result"
    }
   ],
   "source": [
    "# U.S crime rate \n",
    "us_crime = crime_rate_df[crime_rate_df['state'] == 'United States']\n",
    "us_crime.head()"
   ]
  },
  {
   "cell_type": "code",
   "execution_count": 6,
   "id": "107a40d3",
   "metadata": {},
   "outputs": [
    {
     "data": {
      "image/png": "[encoded data removed]",
      "text/plain": [
       "<Figure size 1440x216 with 1 Axes>"
      ]
     },
     "metadata": {
      "needs_background": "light"
     },
     "output_type": "display_data"
    }
   ],
   "source": [
    "\n",
    "fig, ax = plt.subplots(figsize = (20, 3))\n",
    "\n",
    "plt.scatter(us_crime['murder'], us_crime['state'],\n",
    "            c = 'purple', label = 'Murder', s = us_crime['murder'] * 5,\n",
    "           alpha = 0.5)\n",
    "plt.scatter(us_crime['forcible_rape'], us_crime['state'], \n",
    "            c = 'green', label = 'Forcible rape', s = us_crime['forcible_rape'] * 2,\n",
    "           alpha = 0.5)\n",
    "plt.scatter(us_crime['robbery'], us_crime['state'], \n",
    "            c = 'yellow', label = 'Robbery', s = us_crime['robbery'] * 2,\n",
    "           alpha = 0.5)\n",
    "plt.scatter(us_crime['aggravated_assault'], us_crime['state'], \n",
    "            c = 'orange', label = 'Aggravated Assault', s = us_crime['aggravated_assault'] * 2,\n",
    "           alpha = 0.5)\n",
    "plt.scatter(us_crime['burglary'], us_crime['state'], \n",
    "            c = 'blue', label = 'Burglary', s = us_crime['burglary'] * 2,\n",
    "           alpha = 0.5)\n",
    "plt.scatter(us_crime['larceny_theft'], us_crime['state'], \n",
    "            c = 'red', label = 'Larceny Theft', s = us_crime['larceny_theft'] * 2,\n",
    "           alpha = 0.5)\n",
    "plt.scatter(us_crime['motor_vehicle_theft'], us_crime['state'], \n",
    "            c = 'gray', label = 'Motor Vehicle Theft', s = us_crime['motor_vehicle_theft'] * 2,\n",
    "           alpha = 0.5)\n",
    "\n",
    "plt.xlabel(\"Crime Rates\")\n",
    "plt.title(\"Bubble Chart - Python \\n2005 U.S. Crime Rate\")\n",
    "\n",
    "crimes_list = [\"Murder\", \"Forcible Rape\", \"Robbery\", \"Aggravated Assault\", \"Burglary\",\n",
    "              \"Larceny Theft\", \"Motor Vehicle Theft\"]\n",
    "color_list = [\"purple\", \"green\", \"yellow\", \"orange\", \"blue\", \"red\", \"gray\"]\n",
    "legend_list = []\n",
    "for i in range(0, len(crimes_list)):\n",
    "    legend_list.append(mpatches.Patch(color = color_list[i],\n",
    "                            alpha = 0.5,\n",
    "                            label = crimes_list[i]))\n",
    "ax.legend(handles = legend_list, loc = (1.05, 0), title = 'Types of Crime')\n",
    "           \n",
    "plt.tight_layout()\n",
    "\n",
    "plt.show()\n",
    "\n"
   ]
  },
  {
   "cell_type": "markdown",
   "id": "b50ed86a",
   "metadata": {},
   "source": [
    "# density map"
   ]
  },
  {
   "cell_type": "code",
   "execution_count": 7,
   "id": "6171c2e4",
   "metadata": {},
   "outputs": [
    {
     "data": {
      "text/html": [
       "<div>\n",
       "<style scoped>\n",
       "    .dataframe tbody tr th:only-of-type {\n",
       "        vertical-align: middle;\n",
       "    }\n",
       "\n",
       "    .dataframe tbody tr th {\n",
       "        vertical-align: top;\n",
       "    }\n",
       "\n",
       "    .dataframe thead th {\n",
       "        text-align: right;\n",
       "    }\n",
       "</style>\n",
       "<table border=\"1\" class=\"dataframe\">\n",
       "  <thead>\n",
       "    <tr style=\"text-align: right;\">\n",
       "      <th></th>\n",
       "      <th>state</th>\n",
       "      <th>burglary</th>\n",
       "    </tr>\n",
       "  </thead>\n",
       "  <tbody>\n",
       "    <tr>\n",
       "      <th>1</th>\n",
       "      <td>Alabama</td>\n",
       "      <td>953.8</td>\n",
       "    </tr>\n",
       "    <tr>\n",
       "      <th>2</th>\n",
       "      <td>Alaska</td>\n",
       "      <td>622.5</td>\n",
       "    </tr>\n",
       "    <tr>\n",
       "      <th>3</th>\n",
       "      <td>Arizona</td>\n",
       "      <td>948.4</td>\n",
       "    </tr>\n",
       "    <tr>\n",
       "      <th>4</th>\n",
       "      <td>Arkansas</td>\n",
       "      <td>1084.6</td>\n",
       "    </tr>\n",
       "    <tr>\n",
       "      <th>5</th>\n",
       "      <td>California</td>\n",
       "      <td>693.3</td>\n",
       "    </tr>\n",
       "  </tbody>\n",
       "</table>\n",
       "</div>"
      ],
      "text/plain": [
       "        state  burglary\n",
       "1     Alabama     953.8\n",
       "2      Alaska     622.5\n",
       "3     Arizona     948.4\n",
       "4    Arkansas    1084.6\n",
       "5  California     693.3"
      ]
     },
     "execution_count": 7,
     "metadata": {},
     "output_type": "execute_result"
    }
   ],
   "source": [
    "# Slice Columns in pandas using reindex\n",
    "states_crime_df = states_crime.reindex(columns = ['state', 'burglary'])\n",
    "states_crime_df.head()"
   ]
  },
  {
   "cell_type": "code",
   "execution_count": 8,
   "id": "b27ab33c",
   "metadata": {},
   "outputs": [
    {
     "data": {
      "text/html": [
       "<div>\n",
       "<style scoped>\n",
       "    .dataframe tbody tr th:only-of-type {\n",
       "        vertical-align: middle;\n",
       "    }\n",
       "\n",
       "    .dataframe tbody tr th {\n",
       "        vertical-align: top;\n",
       "    }\n",
       "\n",
       "    .dataframe thead th {\n",
       "        text-align: right;\n",
       "    }\n",
       "</style>\n",
       "<table border=\"1\" class=\"dataframe\">\n",
       "  <thead>\n",
       "    <tr style=\"text-align: right;\">\n",
       "      <th></th>\n",
       "      <th>state</th>\n",
       "      <th>larceny_theft</th>\n",
       "    </tr>\n",
       "  </thead>\n",
       "  <tbody>\n",
       "    <tr>\n",
       "      <th>1</th>\n",
       "      <td>Alabama</td>\n",
       "      <td>2650.0</td>\n",
       "    </tr>\n",
       "    <tr>\n",
       "      <th>2</th>\n",
       "      <td>Alaska</td>\n",
       "      <td>2599.1</td>\n",
       "    </tr>\n",
       "    <tr>\n",
       "      <th>3</th>\n",
       "      <td>Arizona</td>\n",
       "      <td>2965.2</td>\n",
       "    </tr>\n",
       "    <tr>\n",
       "      <th>4</th>\n",
       "      <td>Arkansas</td>\n",
       "      <td>2711.2</td>\n",
       "    </tr>\n",
       "    <tr>\n",
       "      <th>5</th>\n",
       "      <td>California</td>\n",
       "      <td>1916.5</td>\n",
       "    </tr>\n",
       "  </tbody>\n",
       "</table>\n",
       "</div>"
      ],
      "text/plain": [
       "        state  larceny_theft\n",
       "1     Alabama         2650.0\n",
       "2      Alaska         2599.1\n",
       "3     Arizona         2965.2\n",
       "4    Arkansas         2711.2\n",
       "5  California         1916.5"
      ]
     },
     "execution_count": 8,
     "metadata": {},
     "output_type": "execute_result"
    }
   ],
   "source": [
    "# Slice Columns in pandas using reindex\n",
    "larceny_theft_df = states_crime.reindex(columns = ['state', 'larceny_theft'])\n",
    "larceny_theft_df.head()"
   ]
  },
  {
   "cell_type": "code",
   "execution_count": 9,
   "id": "cf3077d7",
   "metadata": {},
   "outputs": [
    {
     "data": {
      "image/png": "[encoded data removed]",
      "text/plain": [
       "<Figure size 432x288 with 1 Axes>"
      ]
     },
     "metadata": {
      "needs_background": "light"
     },
     "output_type": "display_data"
    }
   ],
   "source": [
    "\n",
    "density = gaussian_kde(states_crime_df['burglary'])\n",
    "\n",
    "fig, ax = plt.subplots()\n",
    "\n",
    "sb.kdeplot(states_crime_df['burglary'] , bw_method = 0.3 , fill = True, color = 'blue', label = 'burglary')\n",
    "sb.kdeplot(larceny_theft_df['larceny_theft'] , bw_method = 0.3 , fill = True, color = 'yellow', label = 'larceny_theft')\n",
    "\n",
    "plt.title('Density Plot - Python \\nburglary vs larveny_theft States Crime')\n",
    "plt.xlabel('Birth Rate')\n",
    "\n",
    "ax.legend(loc=(1.01, 0.7), ncol = 1, title = 'States Crime')\n",
    "\n",
    "plt.show()"
   ]
  },
  {
   "cell_type": "code",
   "execution_count": null,
   "id": "1044606e",
   "metadata": {},
   "outputs": [],
   "source": []
  }
 ],
 "metadata": {
  "kernelspec": {
   "display_name": "Python 3 (ipykernel)",
   "language": "python",
   "name": "python3"
  },
  "language_info": {
   "codemirror_mode": {
    "name": "ipython",
    "version": 3
   },
   "file_extension": ".py",
   "mimetype": "text/x-python",
   "name": "python",
   "nbconvert_exporter": "python",
   "pygments_lexer": "ipython3",
   "version": "3.9.7"
  }
 },
 "nbformat": 4,
 "nbformat_minor": 5
}
